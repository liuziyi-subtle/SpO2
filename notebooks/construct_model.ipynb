{
 "cells": [
  {
   "cell_type": "markdown",
   "metadata": {},
   "source": [
    "## Load Libraries"
   ]
  },
  {
   "cell_type": "code",
   "execution_count": 13,
   "metadata": {},
   "outputs": [],
   "source": [
    "import json\n",
    "from random import randint, sample\n",
    "import pandas as pd\n",
    "import numpy as np\n",
    "import pickle\n",
    "import seaborn as sns\n",
    "import matplotlib.pyplot as plt\n",
    "\n",
    "from sklearn.metrics import accuracy_score, confusion_matrix\n",
    "\n",
    "import treelite\n",
    "\n",
    "from scipy.io import loadmat\n",
    "import lightgbm as lgb\n",
    "\n",
    "\n",
    "sns.set(style=\"ticks\")\n",
    "np.set_printoptions(suppress=True)\n",
    "\n",
    "pd.set_option('display.max_rows', 150)"
   ]
  },
  {
   "cell_type": "markdown",
   "metadata": {},
   "source": [
    "## Load Data"
   ]
  },
  {
   "cell_type": "code",
   "execution_count": 14,
   "metadata": {},
   "outputs": [],
   "source": [
    "mat = loadmat(\"/data/data/spo2/raw/spo2_feature.mat\")[\"f\"]\n",
    "\n",
    "X = mat[:, :-1]\n",
    "y = mat[:, -1]\n",
    "\n",
    "lgb_data = lgb.Dataset(X, y)"
   ]
  },
  {
   "cell_type": "markdown",
   "metadata": {},
   "source": [
    "## Construct Model with All Data"
   ]
  },
  {
   "cell_type": "code",
   "execution_count": 15,
   "metadata": {},
   "outputs": [
    {
     "name": "stdout",
     "output_type": "stream",
     "text": [
      "[1]\ttraining's multi_logloss: 0.994843\ttraining's multi_error: 0.315861\n",
      "Training until validation scores don't improve for 5 rounds\n",
      "[2]\ttraining's multi_logloss: 0.920654\ttraining's multi_error: 0.309986\n",
      "[3]\ttraining's multi_logloss: 0.865589\ttraining's multi_error: 0.309233\n",
      "[4]\ttraining's multi_logloss: 0.822938\ttraining's multi_error: 0.295677\n",
      "[5]\ttraining's multi_logloss: 0.789421\ttraining's multi_error: 0.292815\n",
      "[6]\ttraining's multi_logloss: 0.76253\ttraining's multi_error: 0.292665\n",
      "[7]\ttraining's multi_logloss: 0.742918\ttraining's multi_error: 0.286188\n",
      "[8]\ttraining's multi_logloss: 0.724187\ttraining's multi_error: 0.285435\n",
      "[9]\ttraining's multi_logloss: 0.709105\ttraining's multi_error: 0.285435\n",
      "[10]\ttraining's multi_logloss: 0.697337\ttraining's multi_error: 0.282573\n",
      "[11]\ttraining's multi_logloss: 0.684623\ttraining's multi_error: 0.282121\n",
      "[12]\ttraining's multi_logloss: 0.673072\ttraining's multi_error: 0.281669\n",
      "[13]\ttraining's multi_logloss: 0.662847\ttraining's multi_error: 0.277\n",
      "[14]\ttraining's multi_logloss: 0.653739\ttraining's multi_error: 0.270221\n",
      "[15]\ttraining's multi_logloss: 0.642526\ttraining's multi_error: 0.256063\n",
      "[16]\ttraining's multi_logloss: 0.633511\ttraining's multi_error: 0.25546\n",
      "[17]\ttraining's multi_logloss: 0.626859\ttraining's multi_error: 0.252749\n",
      "[18]\ttraining's multi_logloss: 0.620611\ttraining's multi_error: 0.254105\n",
      "[19]\ttraining's multi_logloss: 0.613207\ttraining's multi_error: 0.249134\n",
      "[20]\ttraining's multi_logloss: 0.607681\ttraining's multi_error: 0.248833\n",
      "Did not meet early stopping. Best iteration is:\n",
      "[20]\ttraining's multi_logloss: 0.607681\ttraining's multi_error: 0.248833\n",
      "The accuracy of prediction is:  0.7511673444795903\n"
     ]
    }
   ],
   "source": [
    "def get_default_parameters():\n",
    "    params = {\n",
    "        'boosting_type': 'gbdt',\n",
    "        'objective': 'multiclass',\n",
    "        'num_class': 4,\n",
    "        'metric': {'multi_error', 'multi_logloss'},\n",
    "        'num_leaves': 31,\n",
    "        'learning_rate': 0.05,\n",
    "        'feature_fraction': 0.9,\n",
    "        'bagging_fraction': 0.8,\n",
    "        'bagging_freq': 5,\n",
    "        'verbose': 0\n",
    "    }\n",
    "    return params\n",
    "\n",
    "def run(lgb_train, lgb_eval, params, X_test=None, y_test=None):\n",
    "    params[\"num_leaves\"] = int(params[\"num_leaves\"])\n",
    "\n",
    "    gbm = lgb.train(params, lgb_train, num_boost_round=20,\n",
    "                    valid_sets=lgb_eval, early_stopping_rounds=5)\n",
    "\n",
    "    # predict\n",
    "    y_pred = gbm.predict(X_test, num_iteration=gbm.best_iteration)\n",
    "    y_pred = [list(x).index(max(x)) for x in y_pred]\n",
    "\n",
    "    # eval\n",
    "    acc = accuracy_score(y_test, y_pred)\n",
    "    print(\"The accuracy of prediction is: \", acc)\n",
    "    return gbm\n",
    "\n",
    "params = get_default_parameters()\n",
    "received_params = {\n",
    "    \"num_leaves\": 8,\n",
    "    \"learning_rate\": 0.2,\n",
    "    \"bagging_fraction\": 0.9636231730351655,\n",
    "    \"bagging_freq\": 8\n",
    "}\n",
    "params.update(received_params)\n",
    "\n",
    "gbm = run(lgb_data, lgb_data, params, X, y)"
   ]
  },
  {
   "cell_type": "code",
   "execution_count": 16,
   "metadata": {},
   "outputs": [
    {
     "data": {
      "text/plain": [
       "<lightgbm.basic.Booster at 0x7fbb340ae7f0>"
      ]
     },
     "execution_count": 16,
     "metadata": {},
     "output_type": "execute_result"
    }
   ],
   "source": [
    "gbm.save_model(\"./model\")"
   ]
  },
  {
   "cell_type": "code",
   "execution_count": 18,
   "metadata": {},
   "outputs": [
    {
     "name": "stdout",
     "output_type": "stream",
     "text": [
      "[20:40:46] /workspace/src/frontend/lightgbm.cc:544: model.num_tree = 80\n",
      "[20:40:46] /workspace/src/compiler/ast_native.cc:44: Using ASTNativeCompiler\n",
      "[20:40:46] /workspace/src/compiler/ast/split.cc:24: Parallel compilation disabled; all member trees will be dumped to a single source file. This may increase compilation time and memory usage.\n",
      "[20:40:46] /workspace/src/c_api/c_api.cc:286: Code generation finished. Writing code to files...\n",
      "[20:40:46] /workspace/src/c_api/c_api.cc:291: Writing file recipe.json...\n",
      "[20:40:46] /workspace/src/c_api/c_api.cc:291: Writing file header.h...\n",
      "[20:40:46] /workspace/src/c_api/c_api.cc:291: Writing file main.c...\n"
     ]
    }
   ],
   "source": [
    "# model = treelite.Model.from_xgboost(bst)\n",
    "model = treelite.Model.load('./model', 'lightgbm')\n",
    "\n",
    "model.export_srcpkg(platform='unix', toolchain='gcc', pkgpath='./mymodel.zip',\n",
    "                    libname='mymodel.so', verbose=True, params={'quantize': 1})"
   ]
  },
  {
   "cell_type": "markdown",
   "metadata": {},
   "source": [
    "## Compare with C Implementation"
   ]
  },
  {
   "cell_type": "markdown",
   "metadata": {},
   "source": [
    "### Consistency of Features"
   ]
  },
  {
   "cell_type": "markdown",
   "metadata": {},
   "source": [
    "### Consistency of Probs"
   ]
  },
  {
   "cell_type": "code",
   "execution_count": null,
   "metadata": {},
   "outputs": [],
   "source": []
  }
 ],
 "metadata": {
  "kernelspec": {
   "display_name": "Python 3",
   "language": "python",
   "name": "python3"
  },
  "language_info": {
   "codemirror_mode": {
    "name": "ipython",
    "version": 3
   },
   "file_extension": ".py",
   "mimetype": "text/x-python",
   "name": "python",
   "nbconvert_exporter": "python",
   "pygments_lexer": "ipython3",
   "version": "3.8.0"
  }
 },
 "nbformat": 4,
 "nbformat_minor": 4
}
